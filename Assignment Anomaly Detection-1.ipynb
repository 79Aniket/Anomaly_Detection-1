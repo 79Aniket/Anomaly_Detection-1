{
 "cells": [
  {
   "cell_type": "markdown",
   "id": "d5ee5d47-827c-423b-824a-fb4112d9bc4d",
   "metadata": {},
   "source": [
    "## Q1. What is anomaly detection and what is its purpose?"
   ]
  },
  {
   "cell_type": "markdown",
   "id": "51ad5e8a-f8da-4047-88b1-72ab5bdda281",
   "metadata": {},
   "source": [
    "## Anomaly detection, also known as outlier detection, is the process of identifying unexpected events, observations, or items that differ significantly from the norm. It is a type of unsupervised machine learning, which means that the model is trained on unlabeled data.\n",
    "\n",
    "##  The purpose of anomaly detection is to find data points that deviate from the expected behavior of a system or process. This can be used to identify a variety of problems, such as fraud, network intrusions, equipment failures, and medical conditions."
   ]
  },
  {
   "cell_type": "code",
   "execution_count": null,
   "id": "4d36ac6f-5646-4635-a265-5ab867334e7c",
   "metadata": {},
   "outputs": [],
   "source": []
  },
  {
   "cell_type": "markdown",
   "id": "8422d7a5-f1b5-4d1e-b4e9-0fc13623a8b0",
   "metadata": {},
   "source": [
    "## Q2. What are the key challenges in anomaly detection?"
   ]
  },
  {
   "cell_type": "markdown",
   "id": "495018d5-c422-40af-a861-c5c481e15528",
   "metadata": {},
   "source": [
    "## The key challenges in anomaly detection :\n",
    "## Defining normal behavior.\n",
    "## Handling imbalanced datasets.\n",
    "## Detecting rare anomalies.\n",
    "## Addressing concept drift.\n",
    "## False positives and false negatives."
   ]
  },
  {
   "cell_type": "code",
   "execution_count": null,
   "id": "878d4ca4-a702-4593-bdfa-298387c5d818",
   "metadata": {},
   "outputs": [],
   "source": []
  },
  {
   "cell_type": "markdown",
   "id": "15a3e6f5-68e8-4052-b83c-f6cfbc4dcbbf",
   "metadata": {},
   "source": [
    "## Q3. How does unsupervised anomaly detection differ from supervised anomaly detection?"
   ]
  },
  {
   "cell_type": "markdown",
   "id": "8e15a63d-743d-46df-9564-1e03a47477ce",
   "metadata": {},
   "source": [
    "## Unsupervised anomaly detection and supervised anomaly detection are two different approaches to identifying anomalies in data.\n",
    "\n",
    "## Unsupervised anomaly detection does not require labeled data. Instead, it uses statistical methods and machine learning algorithms to learn the normal behavior of the data and identify any data points that deviate from the norm.\n",
    "\n",
    "## Supervised anomaly detection requires labeled data, with each data point labeled as either normal or anomalous. The model is trained on this labeled data and then used to predict whether new data points are normal or anomalous."
   ]
  },
  {
   "cell_type": "code",
   "execution_count": null,
   "id": "35ff2ce2-65e6-404d-abf1-3da07f2e53f0",
   "metadata": {},
   "outputs": [],
   "source": []
  },
  {
   "cell_type": "markdown",
   "id": "69dda451-f3a7-4904-867a-f2f38746ce2b",
   "metadata": {},
   "source": [
    "## Q4. What are the main categories of anomaly detection algorithms?"
   ]
  },
  {
   "cell_type": "markdown",
   "id": "cd81f7d0-6525-409b-b09b-bade742815ac",
   "metadata": {},
   "source": [
    "## The main categories of anomaly detection algorithms are:\n",
    "## Statistical algorithms.\n",
    "## Distance-based algorithms.\n",
    "## Machine learning algorithms."
   ]
  },
  {
   "cell_type": "code",
   "execution_count": null,
   "id": "24fc569e-bf59-4164-b5a2-c499cbc8fa3d",
   "metadata": {},
   "outputs": [],
   "source": []
  },
  {
   "cell_type": "markdown",
   "id": "69ae30e6-e1cc-4825-b958-d7460845514d",
   "metadata": {},
   "source": [
    "## Q5. What are the main assumptions made by distance-based anomaly detection methods?"
   ]
  },
  {
   "cell_type": "markdown",
   "id": "ef31fa5f-0ae7-4946-9158-1d8158018d9a",
   "metadata": {},
   "source": [
    "## Distance-based anomaly detection methods :\n",
    "## Data points are represented as vectors in a feature space.\n",
    "## The distance metric used to calculate the distance between data points is appropriate for the data.\n",
    "## Normal data points are closer to each other than to anomalous data points.\n",
    "## The data is not too noisy."
   ]
  },
  {
   "cell_type": "code",
   "execution_count": null,
   "id": "d118237a-5ef0-4e47-911d-88fbcbc84288",
   "metadata": {},
   "outputs": [],
   "source": []
  },
  {
   "cell_type": "markdown",
   "id": "5c2031bc-bfdf-42b8-8a3d-c1732f0b18b4",
   "metadata": {},
   "source": [
    "## Q7. What are the key parameters of the Isolation Forest algorithm?"
   ]
  },
  {
   "cell_type": "markdown",
   "id": "05b2752c-3f48-46fa-ac8c-7883e7786d50",
   "metadata": {},
   "source": [
    "## The key parameters of the Isolation Forest algorithm are:\n",
    "##  n_estimators.\n",
    "## max_samples.\n",
    "## contamination."
   ]
  },
  {
   "cell_type": "code",
   "execution_count": null,
   "id": "eb7bab74-4bef-4f61-9e07-0bb0d7e92d0e",
   "metadata": {},
   "outputs": [],
   "source": []
  },
  {
   "cell_type": "code",
   "execution_count": null,
   "id": "b8918a78-53fc-4f94-ab98-713b63061fbd",
   "metadata": {},
   "outputs": [],
   "source": []
  }
 ],
 "metadata": {
  "kernelspec": {
   "display_name": "Python 3 (ipykernel)",
   "language": "python",
   "name": "python3"
  },
  "language_info": {
   "codemirror_mode": {
    "name": "ipython",
    "version": 3
   },
   "file_extension": ".py",
   "mimetype": "text/x-python",
   "name": "python",
   "nbconvert_exporter": "python",
   "pygments_lexer": "ipython3",
   "version": "3.10.8"
  }
 },
 "nbformat": 4,
 "nbformat_minor": 5
}
